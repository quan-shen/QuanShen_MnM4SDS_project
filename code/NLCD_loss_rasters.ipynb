{
 "cells": [
  {
   "cell_type": "code",
   "execution_count": 1,
   "metadata": {},
   "outputs": [
    {
     "name": "stdout",
     "output_type": "stream",
     "text": [
      "(9441, 14646)\n",
      "(9441, 14646)\n"
     ]
    }
   ],
   "source": [
    "import os\n",
    "import numpy as np\n",
    "import pandas as pd\n",
    "from osgeo import gdal, gdalconst\n",
    "\n",
    "# Read in the raster NLCD landcover datasets\n",
    "directory = 'D:\\\\788P\\\\'\n",
    "nlcd04_file = os.path.join(directory, \"NLCD_2004.tif\")\n",
    "nlcd06_file = os.path.join(directory, \"NLCD_2006.tif\")\n",
    "nlcd08_file = os.path.join(directory, \"NLCD_2008.tif\")\n",
    "nlcd11_file = os.path.join(directory, \"NLCD_2011.tif\")\n",
    "nlcd13_file = os.path.join(directory, \"NLCD_2013.tif\")\n",
    "nlcd16_file = os.path.join(directory, \"NLCD_2016.tif\")\n",
    "\n",
    "# Make sure the datasets are read in appropriately and the same extent\n",
    "nlcd_ds = gdal.Open(nlcd11_file, gdalconst.GA_ReadOnly)\n",
    "nlcd04 = gdal.Open(nlcd04_file, gdalconst.GA_ReadOnly).ReadAsArray()\n",
    "print(nlcd04.shape)\n",
    "nlcd06 = gdal.Open(nlcd06_file, gdalconst.GA_ReadOnly).ReadAsArray()\n",
    "print(nlcd06.shape)\n",
    "nlcd08 = gdal.Open(nlcd08_file, gdalconst.GA_ReadOnly).ReadAsArray()\n",
    "nlcd11 = gdal.Open(nlcd11_file, gdalconst.GA_ReadOnly).ReadAsArray()\n",
    "nlcd13 = gdal.Open(nlcd13_file, gdalconst.GA_ReadOnly).ReadAsArray()\n",
    "nlcd16 = gdal.Open(nlcd16_file, gdalconst.GA_ReadOnly).ReadAsArray()\n",
    "\n",
    "# Save the extent, projection, and geotransform information of the NLCD rasters\n",
    "cols = nlcd_ds.RasterXSize\n",
    "rows = nlcd_ds.RasterYSize\n",
    "geot = nlcd_ds.GetGeoTransform()\n",
    "proj = nlcd_ds.GetProjection()"
   ]
  },
  {
   "cell_type": "code",
   "execution_count": 2,
   "metadata": {},
   "outputs": [
    {
     "name": "stdout",
     "output_type": "stream",
     "text": [
      "C:\\Users\\shenq\\Desktop\\sq\\geog788P\\QuanShen_MnM4SDS_project\\data\\loss\\NLCD_loss_2006.tif\n"
     ]
    }
   ],
   "source": [
    "# Create the permanent forest loss between 2005 and 2006\n",
    "\n",
    "# Define the output location\n",
    "out_dir = os.path.join(directory, \"loss\\\\NLCD_loss_2006.tif\")\n",
    "print(out_dir)\n",
    "\n",
    "# Create an empty raster file with the extent, projection, and geotransform information\n",
    "driver = gdal.GetDriverByName(\"GTiff\")\n",
    "new_ds = driver.Create(out_dir, cols, rows, 1, gdal.GDT_Float32)\n",
    "new_ds.SetGeoTransform(geot)\n",
    "new_ds.SetProjection(proj)\n",
    "\n",
    "outband = new_ds.GetRasterBand(1)\n",
    "outarray = new_ds.ReadAsArray()\n",
    "\n",
    "# Write in the new raster with 0 and 1\n",
    "# 1: location of permanent forest loss (forest to developed)\n",
    "# 0: not the location permanent forest loss\n",
    "for x in range (0, rows):\n",
    "    for y in range (0, cols):\n",
    "        if nlcd04[x][y] > 40 and nlcd04[x][y] < 50: # forest in 2004\n",
    "            if nlcd06 [x][y] > 20 and nlcd06[x][y] < 30: # developed in 2006\n",
    "                outarray[x][y] = 1\n",
    "            else:\n",
    "                outarray[x][y] = 0\n",
    "outband.WriteArray(outarray)\n",
    "outband.FlushCache()\n",
    "del new_ds"
   ]
  },
  {
   "cell_type": "code",
   "execution_count": 7,
   "metadata": {},
   "outputs": [
    {
     "name": "stdout",
     "output_type": "stream",
     "text": [
      "C:\\Users\\shenq\\Desktop\\sq\\geog788P\\QuanShen_MnM4SDS_project\\data\\loss\\NLCD_loss_2008.tif\n"
     ]
    }
   ],
   "source": [
    "# Create the permanent forest loss between 2007 and 2008 using the same method as above\n",
    "\n",
    "out_dir = os.path.join(directory, \"loss\\\\NLCD_loss_2008.tif\")\n",
    "print(out_dir)\n",
    "\n",
    "driver = gdal.GetDriverByName(\"GTiff\")\n",
    "new_ds = driver.Create(out_dir, cols, rows, 1, gdal.GDT_Float32)\n",
    "new_ds.SetGeoTransform(geot)\n",
    "new_ds.SetProjection(proj)\n",
    "\n",
    "outband = new_ds.GetRasterBand(1)\n",
    "outarray = new_ds.ReadAsArray()\n",
    "for x in range (0, rows):\n",
    "    for y in range (0, cols):\n",
    "        if nlcd06[x][y] > 40 and nlcd06[x][y] < 50:\n",
    "            if nlcd08 [x][y] > 20 and nlcd08[x][y] < 30:\n",
    "                outarray[x][y] = 1\n",
    "            else:\n",
    "                outarray[x][y] = 0\n",
    "outband.WriteArray(outarray)\n",
    "outband.FlushCache()\n",
    "del new_ds"
   ]
  },
  {
   "cell_type": "code",
   "execution_count": 4,
   "metadata": {},
   "outputs": [
    {
     "name": "stdout",
     "output_type": "stream",
     "text": [
      "C:\\Users\\shenq\\Desktop\\sq\\geog788P\\QuanShen_MnM4SDS_project\\data\\loss\\NLCD_loss_2011.tif\n"
     ]
    }
   ],
   "source": [
    "# Create the permanent forest loss between 2009 and 2011\n",
    "\n",
    "out_dir = os.path.join(directory, \"loss\\\\NLCD_loss_2011.tif\")\n",
    "print(out_dir)\n",
    "\n",
    "driver = gdal.GetDriverByName(\"GTiff\")\n",
    "new_ds = driver.Create(out_dir, cols, rows, 1, gdal.GDT_Float32)\n",
    "new_ds.SetGeoTransform(geot)\n",
    "new_ds.SetProjection(proj)\n",
    "\n",
    "outband = new_ds.GetRasterBand(1)\n",
    "outarray = new_ds.ReadAsArray()\n",
    "for x in range (0, rows):\n",
    "    for y in range (0, cols):\n",
    "        if nlcd08[x][y] > 40 and nlcd08[x][y] < 50:\n",
    "            if nlcd11 [x][y] > 20 and nlcd11[x][y] < 30:\n",
    "                outarray[x][y] = 1\n",
    "            else:\n",
    "                outarray[x][y] = 0\n",
    "outband.WriteArray(outarray)\n",
    "outband.FlushCache()\n",
    "del new_ds"
   ]
  },
  {
   "cell_type": "code",
   "execution_count": 5,
   "metadata": {},
   "outputs": [
    {
     "name": "stdout",
     "output_type": "stream",
     "text": [
      "C:\\Users\\shenq\\Desktop\\sq\\geog788P\\QuanShen_MnM4SDS_project\\data\\loss\\NLCD_loss_2013.tif\n"
     ]
    }
   ],
   "source": [
    "# Create the permanent forest loss between 2012 and 2013\n",
    "\n",
    "out_dir = os.path.join(directory, \"loss\\\\NLCD_loss_2013.tif\")\n",
    "print(out_dir)\n",
    "\n",
    "driver = gdal.GetDriverByName(\"GTiff\")\n",
    "new_ds = driver.Create(out_dir, cols, rows, 1, gdal.GDT_Float32)\n",
    "new_ds.SetGeoTransform(geot)\n",
    "new_ds.SetProjection(proj)\n",
    "\n",
    "outband = new_ds.GetRasterBand(1)\n",
    "outarray = new_ds.ReadAsArray()\n",
    "for x in range (0, rows):\n",
    "    for y in range (0, cols):\n",
    "        if nlcd11[x][y] > 40 and nlcd11[x][y] < 50:\n",
    "            if nlcd13 [x][y] > 20 and nlcd13[x][y] < 30:\n",
    "                outarray[x][y] = 1\n",
    "            else:\n",
    "                outarray[x][y] = 0\n",
    "outband.WriteArray(outarray)\n",
    "outband.FlushCache()\n",
    "del new_ds"
   ]
  },
  {
   "cell_type": "code",
   "execution_count": 6,
   "metadata": {},
   "outputs": [
    {
     "name": "stdout",
     "output_type": "stream",
     "text": [
      "C:\\Users\\shenq\\Desktop\\sq\\geog788P\\QuanShen_MnM4SDS_project\\data\\loss\\NLCD_loss_2016.tif\n"
     ]
    }
   ],
   "source": [
    "# Create the permanent forest loss between 2014 and 2016\n",
    "\n",
    "out_dir = os.path.join(directory, \"loss\\\\NLCD_loss_2016.tif\")\n",
    "print(out_dir)\n",
    "\n",
    "driver = gdal.GetDriverByName(\"GTiff\")\n",
    "new_ds = driver.Create(out_dir, cols, rows, 1, gdal.GDT_Float32)\n",
    "new_ds.SetGeoTransform(geot)\n",
    "new_ds.SetProjection(proj)\n",
    "\n",
    "outband = new_ds.GetRasterBand(1)\n",
    "outarray = new_ds.ReadAsArray()\n",
    "for x in range (0, rows):\n",
    "    for y in range (0, cols):\n",
    "        if nlcd13[x][y] > 40 and nlcd13[x][y] < 50:\n",
    "            if nlcd16 [x][y] > 20 and nlcd16[x][y] < 30:\n",
    "                outarray[x][y] = 1\n",
    "            else:\n",
    "                outarray[x][y] = 0\n",
    "outband.WriteArray(outarray)\n",
    "outband.FlushCache()\n",
    "del new_ds"
   ]
  }
 ],
 "metadata": {
  "kernelspec": {
   "display_name": "Python 3",
   "language": "python",
   "name": "python3"
  },
  "language_info": {
   "codemirror_mode": {
    "name": "ipython",
    "version": 3
   },
   "file_extension": ".py",
   "mimetype": "text/x-python",
   "name": "python",
   "nbconvert_exporter": "python",
   "pygments_lexer": "ipython3",
   "version": "3.6.12"
  }
 },
 "nbformat": 4,
 "nbformat_minor": 4
}
