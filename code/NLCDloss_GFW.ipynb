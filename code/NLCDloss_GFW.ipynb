{
 "cells": [
  {
   "cell_type": "code",
   "execution_count": 1,
   "metadata": {},
   "outputs": [
    {
     "name": "stdout",
     "output_type": "stream",
     "text": [
      "(2221, 1236)\n",
      "(2221, 1236)\n",
      "(2221, 1236)\n",
      "(2221, 1236)\n",
      "2221 1236\n"
     ]
    }
   ],
   "source": [
    "import os\n",
    "import random\n",
    "import numpy as np\n",
    "import pandas as pd\n",
    "from osgeo import gdal, gdalconst\n",
    "\n",
    "directory = 'D:\\\\788P\\\\PG'\n",
    "\n",
    "# Read in permanent forest loss and GFW data \n",
    "\n",
    "loss06_file = os.path.join(directory, \"loss\\\\Loss06.tif\")\n",
    "loss11_file = os.path.join(directory, \"loss\\\\Loss11.tif\")\n",
    "loss16_file = os.path.join(directory, \"loss\\\\Loss16.tif\")\n",
    "\n",
    "gfw_loss_file = os.path.join(directory, \"GFW_lossyear_2019.tif\")\n",
    "\n",
    "# Make sure the datasets are read in appropriately and the same extent\n",
    "\n",
    "loss06 = gdal.Open(loss06_file, gdalconst.GA_ReadOnly).ReadAsArray()\n",
    "print(loss06.shape)\n",
    "loss11 = gdal.Open(loss11_file, gdalconst.GA_ReadOnly).ReadAsArray()\n",
    "print(loss11.shape)\n",
    "loss16 = gdal.Open(loss16_file, gdalconst.GA_ReadOnly).ReadAsArray()\n",
    "print(loss16.shape)\n",
    "\n",
    "gfw_loss = gdal.Open(gfw_loss_file, gdalconst.GA_ReadOnly).ReadAsArray()\n",
    "print(gfw_loss.shape)\n",
    "\n",
    "rows, cols = loss06.shape\n",
    "print(rows, cols)"
   ]
  },
  {
   "cell_type": "code",
   "execution_count": 2,
   "metadata": {},
   "outputs": [
    {
     "name": "stdout",
     "output_type": "stream",
     "text": [
      "The accuracy of nlcd loss 2006:\n",
      "742\n",
      "64\n",
      "11256\n"
     ]
    }
   ],
   "source": [
    "# Check the agreement between NLCD loss and GFW loss in 2005-2006\n",
    "overlap = 0\n",
    "gfw_only = 0\n",
    "loss_only = 0\n",
    "\n",
    "for x in range (0, rows):\n",
    "    for y in range (0, cols):\n",
    "        if loss06[x][y] == 1 and gfw_loss[x][y] >= 5 and gfw_loss[x][y] <= 6:\n",
    "            overlap = overlap + 1\n",
    "        if loss06[x][y] == 1 and ((gfw_loss[x][y] < 5 and gfw_loss[x][y] > 0) or gfw_loss[x][y]) > 6:\n",
    "            loss_only = loss_only + 1\n",
    "        if loss06[x][y] == 0 and gfw_loss[x][y] >= 5 and gfw_loss[x][y] <= 6:\n",
    "            gfw_only = gfw_only + 1\n",
    "\n",
    "print(\"The accuracy of nlcd loss 2006:\")\n",
    "print(overlap)\n",
    "print(loss_only)\n",
    "print(gfw_only)"
   ]
  },
  {
   "cell_type": "code",
   "execution_count": 3,
   "metadata": {},
   "outputs": [
    {
     "name": "stdout",
     "output_type": "stream",
     "text": [
      "The accuracy of nlcd loss 2011:\n",
      "568\n",
      "1795\n",
      "3687\n"
     ]
    }
   ],
   "source": [
    "# Check the agreement between NLCD loss and GFW loss in 2009-2011\n",
    "\n",
    "overlap = 0\n",
    "gfw_only = 0\n",
    "loss_only = 0\n",
    "\n",
    "for x in range (0, rows):\n",
    "    for y in range (0, cols):\n",
    "        if loss11[x][y] == 1 and gfw_loss[x][y] >= 9 and gfw_loss[x][y] <= 11:\n",
    "            overlap = overlap + 1\n",
    "        if loss11[x][y] == 1 and ((gfw_loss[x][y] < 9 and gfw_loss[x][y] > 0) or gfw_loss[x][y] > 11):\n",
    "            loss_only = loss_only + 1\n",
    "        if loss11[x][y] == 0 and gfw_loss[x][y] >= 9 and gfw_loss[x][y] <= 11:\n",
    "            gfw_only = gfw_only + 1\n",
    "\n",
    "print(\"The accuracy of nlcd loss 2011:\")\n",
    "print(overlap)\n",
    "print(loss_only)\n",
    "print(gfw_only)"
   ]
  },
  {
   "cell_type": "code",
   "execution_count": 4,
   "metadata": {},
   "outputs": [
    {
     "name": "stdout",
     "output_type": "stream",
     "text": [
      "The accuracy of nlcd loss 2016:\n",
      "756\n",
      "39\n",
      "5050\n"
     ]
    }
   ],
   "source": [
    "# Check the agreement between NLCD loss and GFW loss in 2014-2016\n",
    "overlap = 0\n",
    "gfw_only = 0\n",
    "loss_only = 0\n",
    "\n",
    "for x in range (0, rows):\n",
    "    for y in range (0, cols):\n",
    "        if loss16[x][y] == 1 and gfw_loss[x][y] >= 14 and gfw_loss[x][y] <= 16:\n",
    "            overlap = overlap + 1\n",
    "        if loss16[x][y] == 1 and ((gfw_loss[x][y] < 14 and gfw_loss[x][y] > 0) or gfw_loss[x][y]) > 16:\n",
    "            loss_only = loss_only + 1\n",
    "        if loss16[x][y] == 0 and gfw_loss[x][y] >= 14 and gfw_loss[x][y] <= 16:\n",
    "            gfw_only = gfw_only + 1\n",
    "\n",
    "print(\"The accuracy of nlcd loss 2016:\")\n",
    "print(overlap)\n",
    "print(loss_only)\n",
    "print(gfw_only)"
   ]
  }
 ],
 "metadata": {
  "kernelspec": {
   "display_name": "Python 3",
   "language": "python",
   "name": "python3"
  },
  "language_info": {
   "codemirror_mode": {
    "name": "ipython",
    "version": 3
   },
   "file_extension": ".py",
   "mimetype": "text/x-python",
   "name": "python",
   "nbconvert_exporter": "python",
   "pygments_lexer": "ipython3",
   "version": "3.6.12"
  }
 },
 "nbformat": 4,
 "nbformat_minor": 4
}
